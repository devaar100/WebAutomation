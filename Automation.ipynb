{
 "cells": [
  {
   "cell_type": "code",
   "execution_count": 1,
   "metadata": {},
   "outputs": [],
   "source": [
    "from selenium import webdriver\n",
    "browser = webdriver.Firefox()"
   ]
  },
  {
   "cell_type": "code",
   "execution_count": 2,
   "metadata": {},
   "outputs": [],
   "source": [
    "browser.get(\"https://www.codechef.com/submit/FCTRL2\")"
   ]
  },
  {
   "cell_type": "code",
   "execution_count": 3,
   "metadata": {},
   "outputs": [],
   "source": [
    "btn_fb = browser.find_element_by_id('button_facebook')\n",
    "from selenium.webdriver.common.keys import Keys"
   ]
  },
  {
   "cell_type": "code",
   "execution_count": 4,
   "metadata": {},
   "outputs": [
    {
     "name": "stdout",
     "output_type": "stream",
     "text": [
      "········\n"
     ]
    }
   ],
   "source": [
    "btn_fb.click()\n",
    "username = browser.find_element_by_id('email')\n",
    "username.send_keys('aarnavjindal1000@gmail.com')\n",
    "\n",
    "password = browser.find_element_by_id('pass')\n",
    "from getpass import getpass\n",
    "\n",
    "pass_word = getpass()\n",
    "password.send_keys(pass_word)\n",
    "\n",
    "password.send_keys(Keys.ENTER)"
   ]
  },
  {
   "cell_type": "code",
   "execution_count": 5,
   "metadata": {},
   "outputs": [],
   "source": [
    "toggle = browser.find_element_by_id(\"edit_area_toggle_checkbox_edit-program\")\n",
    "toggle.click()"
   ]
  },
  {
   "cell_type": "code",
   "execution_count": 6,
   "metadata": {},
   "outputs": [],
   "source": [
    "code = '''\n",
    "#include<iostream>\n",
    "using namespace std;\n",
    "int main(){\n",
    "int n;\n",
    "cin>>n;\n",
    "for(int i=0;i<n;i++){\n",
    "    int k;\n",
    "    cin>>k;\n",
    "    long ans = 1;\n",
    "    for(int j=1;j<=k;j++)\n",
    "        ans*=j;\n",
    "    cout<<ans<<endl;\n",
    "}\n",
    "return 0;\n",
    "}\n",
    "'''\n",
    "program_input = browser.find_element_by_id(\"edit-program\")\n",
    "program_input.send_keys(code)\n",
    "browser.find_element_by_id(\"edit-submit\").click()"
   ]
  },
  {
   "cell_type": "code",
   "execution_count": null,
   "metadata": {},
   "outputs": [],
   "source": []
  }
 ],
 "metadata": {
  "kernelspec": {
   "display_name": "Python 2",
   "language": "python",
   "name": "python2"
  },
  "language_info": {
   "codemirror_mode": {
    "name": "ipython",
    "version": 2
   },
   "file_extension": ".py",
   "mimetype": "text/x-python",
   "name": "python",
   "nbconvert_exporter": "python",
   "pygments_lexer": "ipython2",
   "version": "2.7.14"
  }
 },
 "nbformat": 4,
 "nbformat_minor": 2
}
